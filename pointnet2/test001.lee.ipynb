{
 "cells": [
  {
   "cell_type": "code",
   "execution_count": 2,
   "metadata": {},
   "outputs": [
    {
     "name": "stdout",
     "output_type": "stream",
     "text": [
      "2.4.0\n",
      "12.1\n",
      "True\n"
     ]
    }
   ],
   "source": [
    "import torch\n",
    "print(torch.__version__)          # 查看PyTorch版本\n",
    "print(torch.version.cuda)         # 查看PyTorch支持的CUDA版本\n",
    "print(torch.cuda.is_available())  # 检查CUDA是否可用"
   ]
  },
  {
   "cell_type": "code",
   "execution_count": 4,
   "metadata": {},
   "outputs": [
    {
     "name": "stdout",
     "output_type": "stream",
     "text": [
      "1\n"
     ]
    }
   ],
   "source": [
    "print(torch.cuda.device_count())  # 输出可用的CUDA设备数量"
   ]
  },
  {
   "cell_type": "code",
   "execution_count": 5,
   "metadata": {},
   "outputs": [
    {
     "name": "stdout",
     "output_type": "stream",
     "text": [
      "PyTorch Version: 2.4.0\n",
      "CUDA Version Supported by PyTorch: 12.1\n",
      "CUDA Available: True\n",
      "Number of CUDA Devices: 1\n",
      "Current CUDA Device: 0\n",
      "CUDA Device Name: NVIDIA GeForce RTX 3050 4GB Laptop GPU\n"
     ]
    }
   ],
   "source": [
    "import torch\n",
    "\n",
    "print(f\"PyTorch Version: {torch.__version__}\")  # 查看PyTorch版本\n",
    "print(f\"CUDA Version Supported by PyTorch: {torch.version.cuda}\")  # 查看PyTorch支持的CUDA版本\n",
    "print(f\"CUDA Available: {torch.cuda.is_available()}\")  # 检查CUDA是否可用\n",
    "print(f\"Number of CUDA Devices: {torch.cuda.device_count()}\")  # 输出可用的CUDA设备数量\n",
    "if torch.cuda.is_available():\n",
    "    print(f\"Current CUDA Device: {torch.cuda.current_device()}\")  # 输出当前使用的CUDA设备索引\n",
    "    print(f\"CUDA Device Name: {torch.cuda.get_device_name(0)}\")  # 输出第一个CUDA设备的名称\n"
   ]
  },
  {
   "cell_type": "code",
   "execution_count": 7,
   "metadata": {},
   "outputs": [
    {
     "name": "stdout",
     "output_type": "stream",
     "text": [
      "过滤后的数据已保存到 'filtered_output1.json'\n"
     ]
    }
   ],
   "source": [
    "import json\n",
    "\n",
    "# 读取原始的JSON文件\n",
    "with open('/Volumes/data/Datasets/PointCloudsDatasets/ShapeNet_normal/data/shapenetcore_partanno_segmentation_benchmark_v0_normal_add_welding_workpiece/train_test_split/shuffled_val_file_list.json', 'r') as file:\n",
    "    data = json.load(file)\n",
    "\n",
    "# 过滤出包含\"02691156\"的元素\n",
    "filtered_data = [item for item in data if '02691156' in item]\n",
    "\n",
    "# 将过滤后的数据保存到新的JSON文件中\n",
    "with open('filtered_output1.json', 'w') as file:\n",
    "    json.dump(filtered_data, file, indent=4)\n",
    "\n",
    "print(\"过滤后的数据已保存到 'filtered_output1.json'\")"
   ]
  }
 ],
 "metadata": {
  "kernelspec": {
   "display_name": "py312forPointNet2",
   "language": "python",
   "name": "python3"
  },
  "language_info": {
   "codemirror_mode": {
    "name": "ipython",
    "version": 3
   },
   "file_extension": ".py",
   "mimetype": "text/x-python",
   "name": "python",
   "nbconvert_exporter": "python",
   "pygments_lexer": "ipython3",
   "version": "3.12.4"
  }
 },
 "nbformat": 4,
 "nbformat_minor": 2
}
